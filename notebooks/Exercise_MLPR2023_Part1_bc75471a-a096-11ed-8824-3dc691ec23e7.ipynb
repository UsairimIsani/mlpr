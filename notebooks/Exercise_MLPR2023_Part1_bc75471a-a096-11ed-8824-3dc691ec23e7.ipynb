{
 "cells": [
  {
   "cell_type": "markdown",
   "id": "48574939",
   "metadata": {},
   "source": [
    "This is the template for the image recognition exercise. <Br>\n",
    "Some **general instructions**, read these carefully:\n",
    " - The final assignment is returned as a clear and understandable *report*\n",
    "    - define shortly the concepts and explain the phases you use\n",
    "    - use the Markdown feature of the notebook for larger explanations\n",
    " - return your output as a *working* Jupyter notebook\n",
    " - name your file as Exercise_MLPR2023_Partx_uuid.jpynb\n",
    "    - use the uuid code determined below\n",
    "    - use this same code for each part of the assignment\n",
    " - write easily readable code with comments     \n",
    "     - if you exploit code from web, provide a reference\n",
    " - it is ok to discuss with a friend about the assignment. But it is not ok to copy someone's work. Everyone should submit their own implementation\n",
    "     - in case of identical submissions, both submissions are failed "
   ]
  },
  {
   "cell_type": "markdown",
   "id": "0bfbc2b3",
   "metadata": {},
   "source": [
    "**Deadlines:**\n",
    "- Part 1: Mon 6.2 at 23:59\n",
    "- Part 2: Mon 20.2 at 23:59\n",
    "- Part 3: Mon 6.3 at 23:59\n",
    "\n",
    "**No extensions for the deadlines** <br>\n",
    "- after each deadline, example results are given, and it is not possible to submit anymore\n",
    "\n",
    "**If you encounter problems, Google first and if you can’t find an answer, ask for help**\n",
    "- Moodle area for questions\n",
    "- pekavir@utu.fi\n",
    "- teacher available for questions\n",
    "    - Monday 30.1 at 14:00-15:00 room 407B Honka (Agora 4th floor)\n",
    "    - Monday 13.2 at 14:00-15:00 room 407B Honka (Agora 4th floor)\n",
    "    - Thursday 2.3 at lecture 10:15-12:00 "
   ]
  },
  {
   "cell_type": "markdown",
   "id": "ea03f4ab",
   "metadata": {},
   "source": [
    "**Grading**\n",
    "\n",
    "The exercise covers a part of the grading in this course. The course exam has 5 questions, 6 points of each. Exercise gives 6 points, i.e. the total score is 36 points.\n",
    "\n",
    "From the template below, you can see how many exercise points can be acquired from each task. Exam points are given according to the table below: <br>\n",
    "<br>\n",
    "7 exercise points: 1 exam point <br>\n",
    "8 exercise points: 2 exam points <br>\n",
    "9 exercise points: 3 exam points <br>\n",
    "10 exercise points: 4 exam points <br>\n",
    "11 exercise points: 5 exam points <br>\n",
    "12 exercise points: 6 exam points <br>\n",
    "<br>\n",
    "To pass the exercise, you need at least 7 exercise points, and at least 1 exercise point from each Part.\n",
    "    \n",
    "Each student will grade one submission from a peer and their own submission. After each Part deadline, example results are given. Study them carefully and perform the grading according to the given instructions. Mean value from the peer grading and self-grading is used for the final points. "
   ]
  },
  {
   "cell_type": "code",
   "execution_count": 124,
   "id": "20913a7e",
   "metadata": {},
   "outputs": [],
   "source": [
    "# import uuid\n",
    "# # Run this cell only once and save the code. Use the same id code for each Part.\n",
    "# # Printing random id using uuid1()\n",
    "# print (\"The id code is: \",end=\"\")\n",
    "# print (uuid.uuid1())"
   ]
  },
  {
   "attachments": {},
   "cell_type": "markdown",
   "id": "f2c061d0",
   "metadata": {},
   "source": [
    "The id code is: bc75471a-a096-11ed-8824-3dc691ec23e7"
   ]
  },
  {
   "cell_type": "markdown",
   "id": "fb9b2c64",
   "metadata": {},
   "source": [
    "# Part 1"
   ]
  },
  {
   "cell_type": "code",
   "execution_count": null,
   "id": "e69bd6f3",
   "metadata": {},
   "outputs": [],
   "source": []
  },
  {
   "cell_type": "markdown",
   "id": "41f6c75d",
   "metadata": {},
   "source": [
    "Read the original research article:\n",
    "\n",
    "İ. Çınar and M. Koklu. Identification of rice varieties using machine learning algorithms. Journal of Agricultural Sciences, 28(2):307–325, 2022. doi: 10.15832/ankutbd.862482.\n",
    "\n",
    "https://dergipark.org.tr/en/download/article-file/1513632"
   ]
  },
  {
   "cell_type": "markdown",
   "id": "3ce21d52",
   "metadata": {},
   "source": [
    "## Introduction (1 p)"
   ]
  },
  {
   "cell_type": "markdown",
   "id": "35ca8979",
   "metadata": {},
   "source": [
    "Will be written in Part 3"
   ]
  },
  {
   "cell_type": "markdown",
   "id": "6f605da2",
   "metadata": {},
   "source": [
    "## Preparations of the data (1 p)"
   ]
  },
  {
   "cell_type": "markdown",
   "id": "bd900472",
   "metadata": {},
   "source": [
    "Make three folders in your working folder: \"notebooks\", \"data\" and \"training_data\". Save this notebook in \"notebooks\" folder.\n",
    "<br> <br>\n",
    "Perform preparations for the data\n",
    "- import all the packages needed for this notebook in one cell \n",
    "- import the images. Data can be found from (downloading starts as you press the link) https://www.muratkoklu.com/datasets/vtdhnd09.php <br>\n",
    "    - save the data folders \"Arborio\", \"Basmati\" and \"Jasmine\" in \"data\" folder \n",
    "- take a random sample of 100 images from Arborio, Basmati and Jasmine rice species (i.e. 300 images in total) \n",
    "- determine the contour of each rice (you can use e.g. *findContours* from OpenCV) \n",
    "- plot one example image of each rice species, including the contour "
   ]
  },
  {
   "cell_type": "markdown",
   "id": "b8386fd1",
   "metadata": {},
   "source": [
    "## Feature extraction (2 p)"
   ]
  },
  {
   "cell_type": "markdown",
   "id": "83cc994d",
   "metadata": {},
   "source": [
    "Gather the feature data <br>\n",
    "<br>\n",
    "Color features (15) <br>\n",
    "- Calculate the following color features for each image, including only the pixels within the contour (you can use e.g. *pointPolygonTest* from OpenCV)\n",
    "    - Mean for each RGB color channel \n",
    "    - Variance for each RGB color channel \n",
    "    - Skewness for each RGB color channel \n",
    "    - Kurtosis for each RGB color channel \n",
    "    - Entropy for each RGB color channel \n",
    "    \n",
    "Dimension features (6) <br>\n",
    "- Fit an ellipse to the contour points (you can use e.g. *fitEllipse* from OpenCV) \n",
    "- Plot one example image of each rice species including the fitted ellipse \n",
    "- Calculate the following features for each image (for details, see the original article)\n",
    "    - the major axis length the ellipse \n",
    "    - the minor axis length of the ellipse \n",
    "    - area inside the contour (you can use e.g. *contourArea* from OpenCV) \n",
    "    - perimeter of the contour (you can use e.g. *arcLength* from OpenCV) \n",
    "    - roundness \n",
    "    - aspect ratio \n",
    "    \n",
    "Gather all the features in one array or dataframe: one data point in one row, including all feature values in columns.  <br>\n",
    "For each data point, include also information of the original image and the label (rice species). Save the data in \"training_data\" folder. "
   ]
  },
  {
   "attachments": {},
   "cell_type": "markdown",
   "id": "fae4bb9f",
   "metadata": {},
   "source": [
    "# Part # 1"
   ]
  },
  {
   "cell_type": "code",
   "execution_count": 125,
   "id": "d7c4e2d1",
   "metadata": {},
   "outputs": [],
   "source": [
    "import pandas as pd\n",
    "import numpy as np\n",
    "\n",
    "import matplotlib.pyplot as plt\n",
    "import matplotlib.image as mimg\n",
    "import os, os.path as path\n",
    "\n",
    "import cv2\n",
    "import math\n"
   ]
  },
  {
   "cell_type": "code",
   "execution_count": 126,
   "id": "313c6ccf",
   "metadata": {},
   "outputs": [],
   "source": [
    "data_path = \"../data\"\n",
    "training_data_path = \"../training_data/\"\n",
    "imgs = \"../imgs/\""
   ]
  },
  {
   "cell_type": "code",
   "execution_count": 127,
   "id": "bb5587d9",
   "metadata": {},
   "outputs": [],
   "source": [
    "def random_data(data_path):\n",
    "    data = []\n",
    "    for folder in os.listdir(data_path):\n",
    "        data.extend([{\"path\": path.join(data_path, folder, file), \"label\": folder}\n",
    "                    for file in np.random.choice(os.listdir(f'{data_path}/{folder}'), 100, replace=False)])\n",
    "    df = pd.DataFrame(data)\n",
    "    return df\n"
   ]
  },
  {
   "cell_type": "code",
   "execution_count": 128,
   "id": "1cb5b94d",
   "metadata": {},
   "outputs": [],
   "source": [
    "rice_df = random_data(data_path)"
   ]
  },
  {
   "cell_type": "code",
   "execution_count": 129,
   "id": "11b7158e",
   "metadata": {},
   "outputs": [
    {
     "data": {
      "text/html": [
       "<div>\n",
       "<style scoped>\n",
       "    .dataframe tbody tr th:only-of-type {\n",
       "        vertical-align: middle;\n",
       "    }\n",
       "\n",
       "    .dataframe tbody tr th {\n",
       "        vertical-align: top;\n",
       "    }\n",
       "\n",
       "    .dataframe thead th {\n",
       "        text-align: right;\n",
       "    }\n",
       "</style>\n",
       "<table border=\"1\" class=\"dataframe\">\n",
       "  <thead>\n",
       "    <tr style=\"text-align: right;\">\n",
       "      <th></th>\n",
       "      <th>path</th>\n",
       "      <th>label</th>\n",
       "    </tr>\n",
       "  </thead>\n",
       "  <tbody>\n",
       "    <tr>\n",
       "      <th>242</th>\n",
       "      <td>../data/Arborio/Arborio (9307).jpg</td>\n",
       "      <td>Arborio</td>\n",
       "    </tr>\n",
       "    <tr>\n",
       "      <th>220</th>\n",
       "      <td>../data/Arborio/Arborio (11724).jpg</td>\n",
       "      <td>Arborio</td>\n",
       "    </tr>\n",
       "    <tr>\n",
       "      <th>198</th>\n",
       "      <td>../data/Jasmine/Jasmine (8566).jpg</td>\n",
       "      <td>Jasmine</td>\n",
       "    </tr>\n",
       "    <tr>\n",
       "      <th>215</th>\n",
       "      <td>../data/Arborio/Arborio (12923).jpg</td>\n",
       "      <td>Arborio</td>\n",
       "    </tr>\n",
       "    <tr>\n",
       "      <th>273</th>\n",
       "      <td>../data/Arborio/Arborio (6977).jpg</td>\n",
       "      <td>Arborio</td>\n",
       "    </tr>\n",
       "    <tr>\n",
       "      <th>145</th>\n",
       "      <td>../data/Jasmine/Jasmine (9320).jpg</td>\n",
       "      <td>Jasmine</td>\n",
       "    </tr>\n",
       "    <tr>\n",
       "      <th>245</th>\n",
       "      <td>../data/Arborio/Arborio (8436).jpg</td>\n",
       "      <td>Arborio</td>\n",
       "    </tr>\n",
       "    <tr>\n",
       "      <th>235</th>\n",
       "      <td>../data/Arborio/Arborio (11866).jpg</td>\n",
       "      <td>Arborio</td>\n",
       "    </tr>\n",
       "    <tr>\n",
       "      <th>92</th>\n",
       "      <td>../data/Basmati/basmati (1971).jpg</td>\n",
       "      <td>Basmati</td>\n",
       "    </tr>\n",
       "    <tr>\n",
       "      <th>167</th>\n",
       "      <td>../data/Jasmine/Jasmine (1997).jpg</td>\n",
       "      <td>Jasmine</td>\n",
       "    </tr>\n",
       "  </tbody>\n",
       "</table>\n",
       "</div>"
      ],
      "text/plain": [
       "                                    path    label\n",
       "242   ../data/Arborio/Arborio (9307).jpg  Arborio\n",
       "220  ../data/Arborio/Arborio (11724).jpg  Arborio\n",
       "198   ../data/Jasmine/Jasmine (8566).jpg  Jasmine\n",
       "215  ../data/Arborio/Arborio (12923).jpg  Arborio\n",
       "273   ../data/Arborio/Arborio (6977).jpg  Arborio\n",
       "145   ../data/Jasmine/Jasmine (9320).jpg  Jasmine\n",
       "245   ../data/Arborio/Arborio (8436).jpg  Arborio\n",
       "235  ../data/Arborio/Arborio (11866).jpg  Arborio\n",
       "92    ../data/Basmati/basmati (1971).jpg  Basmati\n",
       "167   ../data/Jasmine/Jasmine (1997).jpg  Jasmine"
      ]
     },
     "execution_count": 129,
     "metadata": {},
     "output_type": "execute_result"
    }
   ],
   "source": [
    "rice_df.sample(10)"
   ]
  },
  {
   "cell_type": "code",
   "execution_count": 130,
   "id": "ebdce83f",
   "metadata": {},
   "outputs": [],
   "source": [
    "def find_major_minor_axis(ellipse, img):\n",
    "    (xc, yc), (d1, d2), angle = ellipse\n",
    "\n",
    "    major = max(d1, d2)/2\n",
    "\n",
    "    if angle > 90:\n",
    "        angle = angle - 90\n",
    "    else:\n",
    "        angle = angle + 90\n",
    "    xtop = xc + math.cos(math.radians(angle))*major\n",
    "    ytop = yc + math.sin(math.radians(angle))*major\n",
    "    xbot = xc + math.cos(math.radians(angle+180))*major\n",
    "    ybot = yc + math.sin(math.radians(angle+180))*major\n",
    "\n",
    "    cv2.line(img, (int(xtop), int(ytop)),\n",
    "             (int(xbot), int(ybot)), (0, 0, 255), 3)\n",
    "\n",
    "    minor = min(d1, d2)/2\n",
    "\n",
    "    xtop = xc + math.cos(math.radians(angle))*minor\n",
    "    ytop = yc + math.sin(math.radians(angle))*minor\n",
    "    xbot = xc + math.cos(math.radians(angle+180))*minor\n",
    "    ybot = yc + math.sin(math.radians(angle+180))*minor\n",
    "\n",
    "    cv2.line(img, (int(xtop), int(ytop)),\n",
    "             (int(xbot), int(ybot)), (0, 0, 255), 3)\n",
    "\n",
    "    return img\n"
   ]
  },
  {
   "cell_type": "code",
   "execution_count": 131,
   "id": "1721a471",
   "metadata": {},
   "outputs": [],
   "source": [
    "for index, row in rice_df.iterrows():\n",
    "    img_path = row[\"path\"]\n",
    "    \n",
    "    img = cv2.imread(img_path)\n",
    "    \n",
    "    img_gray = cv2.cvtColor(img, cv2.COLOR_BGR2GRAY)\n",
    "    \n",
    "    ret, thresh = cv2.threshold(img_gray, 127, 255, 0)\n",
    "    \n",
    "    contours, hierarchy = cv2.findContours(thresh, cv2.RETR_TREE, cv2.CHAIN_APPROX_SIMPLE)\n",
    "    \n",
    "    cv2.drawContours(img, contours, -1, (0,255,0), 3)\n",
    "\n",
    "    ellipse = cv2.fitEllipse(contours[0])\n",
    "\n",
    "    cv2.ellipse(img,ellipse, (0,0,255), 3)\n",
    "    \n",
    "    img = find_major_minor_axis(ellipse, img)\n",
    "\n",
    "    moments = cv2.moments(contours[0])\n",
    "\n",
    "    cx = moments['m10']/moments['m00']\n",
    "    cy = moments['m01']/moments['m00']\n",
    "\n",
    "    area = cv2.contourArea(contours[0])\n",
    "    \n",
    "    perimeter = cv2.arcLength(contours[0], True)\n",
    "\n",
    "    img_path =  os.path.join(imgs,*(img_path.split(os.path.sep)[3:]))\n",
    "    cv2.imwrite(img_path, img)\n",
    "    \n",
    "    rice_df.at[index,'contours'] = img_path"
   ]
  },
  {
   "cell_type": "code",
   "execution_count": 132,
   "id": "bd8344d3",
   "metadata": {},
   "outputs": [
    {
     "data": {
      "text/html": [
       "<div>\n",
       "<style scoped>\n",
       "    .dataframe tbody tr th:only-of-type {\n",
       "        vertical-align: middle;\n",
       "    }\n",
       "\n",
       "    .dataframe tbody tr th {\n",
       "        vertical-align: top;\n",
       "    }\n",
       "\n",
       "    .dataframe thead th {\n",
       "        text-align: right;\n",
       "    }\n",
       "</style>\n",
       "<table border=\"1\" class=\"dataframe\">\n",
       "  <thead>\n",
       "    <tr style=\"text-align: right;\">\n",
       "      <th></th>\n",
       "      <th>path</th>\n",
       "      <th>label</th>\n",
       "      <th>contours</th>\n",
       "    </tr>\n",
       "  </thead>\n",
       "  <tbody>\n",
       "    <tr>\n",
       "      <th>154</th>\n",
       "      <td>../data/Jasmine/Jasmine (12595).jpg</td>\n",
       "      <td>Jasmine</td>\n",
       "      <td>../imgs/Jasmine (12595).jpg</td>\n",
       "    </tr>\n",
       "    <tr>\n",
       "      <th>41</th>\n",
       "      <td>../data/Basmati/basmati (11048).jpg</td>\n",
       "      <td>Basmati</td>\n",
       "      <td>../imgs/basmati (11048).jpg</td>\n",
       "    </tr>\n",
       "    <tr>\n",
       "      <th>68</th>\n",
       "      <td>../data/Basmati/basmati (14158).jpg</td>\n",
       "      <td>Basmati</td>\n",
       "      <td>../imgs/basmati (14158).jpg</td>\n",
       "    </tr>\n",
       "    <tr>\n",
       "      <th>92</th>\n",
       "      <td>../data/Basmati/basmati (1971).jpg</td>\n",
       "      <td>Basmati</td>\n",
       "      <td>../imgs/basmati (1971).jpg</td>\n",
       "    </tr>\n",
       "    <tr>\n",
       "      <th>293</th>\n",
       "      <td>../data/Arborio/Arborio (5117).jpg</td>\n",
       "      <td>Arborio</td>\n",
       "      <td>../imgs/Arborio (5117).jpg</td>\n",
       "    </tr>\n",
       "    <tr>\n",
       "      <th>141</th>\n",
       "      <td>../data/Jasmine/Jasmine (901).jpg</td>\n",
       "      <td>Jasmine</td>\n",
       "      <td>../imgs/Jasmine (901).jpg</td>\n",
       "    </tr>\n",
       "    <tr>\n",
       "      <th>189</th>\n",
       "      <td>../data/Jasmine/Jasmine (9357).jpg</td>\n",
       "      <td>Jasmine</td>\n",
       "      <td>../imgs/Jasmine (9357).jpg</td>\n",
       "    </tr>\n",
       "    <tr>\n",
       "      <th>27</th>\n",
       "      <td>../data/Basmati/basmati (2007).jpg</td>\n",
       "      <td>Basmati</td>\n",
       "      <td>../imgs/basmati (2007).jpg</td>\n",
       "    </tr>\n",
       "    <tr>\n",
       "      <th>232</th>\n",
       "      <td>../data/Arborio/Arborio (6346).jpg</td>\n",
       "      <td>Arborio</td>\n",
       "      <td>../imgs/Arborio (6346).jpg</td>\n",
       "    </tr>\n",
       "    <tr>\n",
       "      <th>237</th>\n",
       "      <td>../data/Arborio/Arborio (1377).jpg</td>\n",
       "      <td>Arborio</td>\n",
       "      <td>../imgs/Arborio (1377).jpg</td>\n",
       "    </tr>\n",
       "  </tbody>\n",
       "</table>\n",
       "</div>"
      ],
      "text/plain": [
       "                                    path    label                     contours\n",
       "154  ../data/Jasmine/Jasmine (12595).jpg  Jasmine  ../imgs/Jasmine (12595).jpg\n",
       "41   ../data/Basmati/basmati (11048).jpg  Basmati  ../imgs/basmati (11048).jpg\n",
       "68   ../data/Basmati/basmati (14158).jpg  Basmati  ../imgs/basmati (14158).jpg\n",
       "92    ../data/Basmati/basmati (1971).jpg  Basmati   ../imgs/basmati (1971).jpg\n",
       "293   ../data/Arborio/Arborio (5117).jpg  Arborio   ../imgs/Arborio (5117).jpg\n",
       "141    ../data/Jasmine/Jasmine (901).jpg  Jasmine    ../imgs/Jasmine (901).jpg\n",
       "189   ../data/Jasmine/Jasmine (9357).jpg  Jasmine   ../imgs/Jasmine (9357).jpg\n",
       "27    ../data/Basmati/basmati (2007).jpg  Basmati   ../imgs/basmati (2007).jpg\n",
       "232   ../data/Arborio/Arborio (6346).jpg  Arborio   ../imgs/Arborio (6346).jpg\n",
       "237   ../data/Arborio/Arborio (1377).jpg  Arborio   ../imgs/Arborio (1377).jpg"
      ]
     },
     "execution_count": 132,
     "metadata": {},
     "output_type": "execute_result"
    }
   ],
   "source": [
    "rice_df.sample(10)"
   ]
  },
  {
   "cell_type": "code",
   "execution_count": 133,
   "id": "65374b20",
   "metadata": {},
   "outputs": [],
   "source": [
    "samples = rice_df.groupby('label').sample(1).reset_index()"
   ]
  },
  {
   "cell_type": "code",
   "execution_count": 134,
   "id": "7ae2c389",
   "metadata": {},
   "outputs": [
    {
     "data": {
      "image/png": "[encoded data removed]",
      "text/plain": [
       "<Figure size 640x480 with 3 Axes>"
      ]
     },
     "metadata": {},
     "output_type": "display_data"
    }
   ],
   "source": [
    "f, ax = plt.subplots(1,3)\n",
    "for i, sample in samples.iterrows():\n",
    "    img = mimg.imread(sample[\"contours\"])\n",
    "    ax[i].imshow(img)\n"
   ]
  },
  {
   "cell_type": "code",
   "execution_count": null,
   "id": "03a8ba1c",
   "metadata": {},
   "outputs": [],
   "source": []
  }
 ],
 "metadata": {
  "kernelspec": {
   "display_name": "mlpr-U2R3553i",
   "language": "python",
   "name": "python3"
  },
  "language_info": {
   "codemirror_mode": {
    "name": "ipython",
    "version": 3
   },
   "file_extension": ".py",
   "mimetype": "text/x-python",
   "name": "python",
   "nbconvert_exporter": "python",
   "pygments_lexer": "ipython3",
   "version": "3.10.7"
  },
  "toc": {
   "base_numbering": 1,
   "nav_menu": {},
   "number_sections": true,
   "sideBar": true,
   "skip_h1_title": false,
   "title_cell": "Table of Contents",
   "title_sidebar": "Contents",
   "toc_cell": false,
   "toc_position": {
    "height": "calc(100% - 180px)",
    "left": "10px",
    "top": "150px",
    "width": "232px"
   },
   "toc_section_display": true,
   "toc_window_display": true
  },
  "vscode": {
   "interpreter": {
    "hash": "9b3487b340aaac7401d49aec29d536a9df58a021586f7c9dd8b783eda97cba44"
   }
  }
 },
 "nbformat": 4,
 "nbformat_minor": 5
}
